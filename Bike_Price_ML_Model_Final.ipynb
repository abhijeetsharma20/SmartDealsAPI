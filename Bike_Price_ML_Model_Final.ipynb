{
 "cells": [
  {
   "cell_type": "markdown",
   "id": "76b815c9",
   "metadata": {},
   "source": [
    "# Bike Price Prediction"
   ]
  },
  {
   "cell_type": "markdown",
   "id": "0c74b1ca",
   "metadata": {},
   "source": [
    " importing the Required Libraries"
   ]
  },
  {
   "cell_type": "code",
   "execution_count": 89,
   "id": "bf834996",
   "metadata": {},
   "outputs": [],
   "source": [
    "import numpy as np\n",
    "import pandas as pd \n",
    "import seaborn as sns\n",
    "import matplotlib.pyplot as plt\n",
    "%matplotlib inline\n",
    "import warnings\n",
    "warnings.filterwarnings('ignore')\n",
    "from sklearn.model_selection import train_test_split\n",
    "from sklearn.metrics import mean_absolute_error, mean_squared_error, accuracy_score, r2_score\n",
    "from sklearn.ensemble import RandomForestRegressor\n",
    "from sklearn import preprocessing\n",
    "\n",
    "import pickle"
   ]
  },
  {
   "cell_type": "code",
   "execution_count": 90,
   "id": "7d4b5e2d",
   "metadata": {},
   "outputs": [],
   "source": [
    "#importing the data\n",
    "\n",
    "data = pd.read_csv('bike.csv')"
   ]
  },
  {
   "cell_type": "code",
   "execution_count": 91,
   "id": "d34e8e4f",
   "metadata": {},
   "outputs": [],
   "source": [
    "pd.set_option(\"display.max_columns\",None)\n",
    "pd.set_option('display.max_rows',None)"
   ]
  },
  {
   "cell_type": "markdown",
   "id": "09084997",
   "metadata": {},
   "source": [
    "# Exploring the Data"
   ]
  },
  {
   "cell_type": "code",
   "execution_count": 92,
   "id": "874e1008",
   "metadata": {},
   "outputs": [
    {
     "data": {
      "text/html": [
       "<div>\n",
       "<style scoped>\n",
       "    .dataframe tbody tr th:only-of-type {\n",
       "        vertical-align: middle;\n",
       "    }\n",
       "\n",
       "    .dataframe tbody tr th {\n",
       "        vertical-align: top;\n",
       "    }\n",
       "\n",
       "    .dataframe thead th {\n",
       "        text-align: right;\n",
       "    }\n",
       "</style>\n",
       "<table border=\"1\" class=\"dataframe\">\n",
       "  <thead>\n",
       "    <tr style=\"text-align: right;\">\n",
       "      <th></th>\n",
       "      <th>name</th>\n",
       "      <th>selling_price</th>\n",
       "      <th>year</th>\n",
       "      <th>seller_type</th>\n",
       "      <th>owner</th>\n",
       "      <th>km_driven</th>\n",
       "      <th>ex_showroom_price</th>\n",
       "    </tr>\n",
       "  </thead>\n",
       "  <tbody>\n",
       "    <tr>\n",
       "      <th>0</th>\n",
       "      <td>Royal Enfield Classic 350</td>\n",
       "      <td>175000</td>\n",
       "      <td>2019</td>\n",
       "      <td>Individual</td>\n",
       "      <td>1st owner</td>\n",
       "      <td>350</td>\n",
       "      <td>NaN</td>\n",
       "    </tr>\n",
       "    <tr>\n",
       "      <th>1</th>\n",
       "      <td>Honda Dio</td>\n",
       "      <td>45000</td>\n",
       "      <td>2017</td>\n",
       "      <td>Individual</td>\n",
       "      <td>1st owner</td>\n",
       "      <td>5650</td>\n",
       "      <td>NaN</td>\n",
       "    </tr>\n",
       "    <tr>\n",
       "      <th>2</th>\n",
       "      <td>Royal Enfield Classic Gunmetal Grey</td>\n",
       "      <td>150000</td>\n",
       "      <td>2018</td>\n",
       "      <td>Individual</td>\n",
       "      <td>1st owner</td>\n",
       "      <td>12000</td>\n",
       "      <td>148114.0</td>\n",
       "    </tr>\n",
       "    <tr>\n",
       "      <th>3</th>\n",
       "      <td>Yamaha Fazer FI V 2.0 [2016-2018]</td>\n",
       "      <td>65000</td>\n",
       "      <td>2015</td>\n",
       "      <td>Individual</td>\n",
       "      <td>1st owner</td>\n",
       "      <td>23000</td>\n",
       "      <td>89643.0</td>\n",
       "    </tr>\n",
       "    <tr>\n",
       "      <th>4</th>\n",
       "      <td>Yamaha SZ [2013-2014]</td>\n",
       "      <td>20000</td>\n",
       "      <td>2011</td>\n",
       "      <td>Individual</td>\n",
       "      <td>2nd owner</td>\n",
       "      <td>21000</td>\n",
       "      <td>NaN</td>\n",
       "    </tr>\n",
       "  </tbody>\n",
       "</table>\n",
       "</div>"
      ],
      "text/plain": [
       "                                  name  selling_price  year seller_type  \\\n",
       "0            Royal Enfield Classic 350         175000  2019  Individual   \n",
       "1                            Honda Dio          45000  2017  Individual   \n",
       "2  Royal Enfield Classic Gunmetal Grey         150000  2018  Individual   \n",
       "3    Yamaha Fazer FI V 2.0 [2016-2018]          65000  2015  Individual   \n",
       "4                Yamaha SZ [2013-2014]          20000  2011  Individual   \n",
       "\n",
       "       owner  km_driven  ex_showroom_price  \n",
       "0  1st owner        350                NaN  \n",
       "1  1st owner       5650                NaN  \n",
       "2  1st owner      12000           148114.0  \n",
       "3  1st owner      23000            89643.0  \n",
       "4  2nd owner      21000                NaN  "
      ]
     },
     "execution_count": 92,
     "metadata": {},
     "output_type": "execute_result"
    }
   ],
   "source": [
    "#exploring the data\n",
    "data.head()"
   ]
  },
  {
   "cell_type": "code",
   "execution_count": 93,
   "id": "df73f782",
   "metadata": {},
   "outputs": [
    {
     "data": {
      "text/plain": [
       "name                   0\n",
       "selling_price          0\n",
       "year                   0\n",
       "seller_type            0\n",
       "owner                  0\n",
       "km_driven              0\n",
       "ex_showroom_price    435\n",
       "dtype: int64"
      ]
     },
     "execution_count": 93,
     "metadata": {},
     "output_type": "execute_result"
    }
   ],
   "source": [
    "#checking the null value\n",
    "data.isnull().sum()"
   ]
  },
  {
   "cell_type": "code",
   "execution_count": 94,
   "id": "8bd61ac6",
   "metadata": {},
   "outputs": [
    {
     "data": {
      "text/html": [
       "<div>\n",
       "<style scoped>\n",
       "    .dataframe tbody tr th:only-of-type {\n",
       "        vertical-align: middle;\n",
       "    }\n",
       "\n",
       "    .dataframe tbody tr th {\n",
       "        vertical-align: top;\n",
       "    }\n",
       "\n",
       "    .dataframe thead th {\n",
       "        text-align: right;\n",
       "    }\n",
       "</style>\n",
       "<table border=\"1\" class=\"dataframe\">\n",
       "  <thead>\n",
       "    <tr style=\"text-align: right;\">\n",
       "      <th></th>\n",
       "      <th>selling_price</th>\n",
       "      <th>year</th>\n",
       "      <th>km_driven</th>\n",
       "      <th>ex_showroom_price</th>\n",
       "    </tr>\n",
       "  </thead>\n",
       "  <tbody>\n",
       "    <tr>\n",
       "      <th>count</th>\n",
       "      <td>1061.00</td>\n",
       "      <td>1061.00</td>\n",
       "      <td>1061.00</td>\n",
       "      <td>626.00</td>\n",
       "    </tr>\n",
       "    <tr>\n",
       "      <th>mean</th>\n",
       "      <td>59638.15</td>\n",
       "      <td>2013.87</td>\n",
       "      <td>34359.83</td>\n",
       "      <td>87958.71</td>\n",
       "    </tr>\n",
       "    <tr>\n",
       "      <th>std</th>\n",
       "      <td>56304.29</td>\n",
       "      <td>4.30</td>\n",
       "      <td>51623.15</td>\n",
       "      <td>77496.59</td>\n",
       "    </tr>\n",
       "    <tr>\n",
       "      <th>min</th>\n",
       "      <td>5000.00</td>\n",
       "      <td>1988.00</td>\n",
       "      <td>350.00</td>\n",
       "      <td>30490.00</td>\n",
       "    </tr>\n",
       "    <tr>\n",
       "      <th>25%</th>\n",
       "      <td>28000.00</td>\n",
       "      <td>2011.00</td>\n",
       "      <td>13500.00</td>\n",
       "      <td>54852.00</td>\n",
       "    </tr>\n",
       "    <tr>\n",
       "      <th>50%</th>\n",
       "      <td>45000.00</td>\n",
       "      <td>2015.00</td>\n",
       "      <td>25000.00</td>\n",
       "      <td>72752.50</td>\n",
       "    </tr>\n",
       "    <tr>\n",
       "      <th>75%</th>\n",
       "      <td>70000.00</td>\n",
       "      <td>2017.00</td>\n",
       "      <td>43000.00</td>\n",
       "      <td>87031.50</td>\n",
       "    </tr>\n",
       "    <tr>\n",
       "      <th>max</th>\n",
       "      <td>760000.00</td>\n",
       "      <td>2020.00</td>\n",
       "      <td>880000.00</td>\n",
       "      <td>1278000.00</td>\n",
       "    </tr>\n",
       "  </tbody>\n",
       "</table>\n",
       "</div>"
      ],
      "text/plain": [
       "       selling_price     year  km_driven  ex_showroom_price\n",
       "count        1061.00  1061.00    1061.00             626.00\n",
       "mean        59638.15  2013.87   34359.83           87958.71\n",
       "std         56304.29     4.30   51623.15           77496.59\n",
       "min          5000.00  1988.00     350.00           30490.00\n",
       "25%         28000.00  2011.00   13500.00           54852.00\n",
       "50%         45000.00  2015.00   25000.00           72752.50\n",
       "75%         70000.00  2017.00   43000.00           87031.50\n",
       "max        760000.00  2020.00  880000.00         1278000.00"
      ]
     },
     "execution_count": 94,
     "metadata": {},
     "output_type": "execute_result"
    }
   ],
   "source": [
    "np.round(data.describe(),2)"
   ]
  },
  {
   "cell_type": "code",
   "execution_count": 95,
   "id": "dd0bd785",
   "metadata": {},
   "outputs": [
    {
     "name": "stdout",
     "output_type": "stream",
     "text": [
      "<class 'pandas.core.frame.DataFrame'>\n",
      "RangeIndex: 1061 entries, 0 to 1060\n",
      "Data columns (total 7 columns):\n",
      " #   Column             Non-Null Count  Dtype  \n",
      "---  ------             --------------  -----  \n",
      " 0   name               1061 non-null   object \n",
      " 1   selling_price      1061 non-null   int64  \n",
      " 2   year               1061 non-null   int64  \n",
      " 3   seller_type        1061 non-null   object \n",
      " 4   owner              1061 non-null   object \n",
      " 5   km_driven          1061 non-null   int64  \n",
      " 6   ex_showroom_price  626 non-null    float64\n",
      "dtypes: float64(1), int64(3), object(3)\n",
      "memory usage: 58.1+ KB\n"
     ]
    }
   ],
   "source": [
    "data.info()"
   ]
  },
  {
   "cell_type": "code",
   "execution_count": 96,
   "id": "9d97b97f",
   "metadata": {},
   "outputs": [
    {
     "data": {
      "text/plain": [
       "(1061, 7)"
      ]
     },
     "execution_count": 96,
     "metadata": {},
     "output_type": "execute_result"
    }
   ],
   "source": [
    "data.shape #1061 rows and 7 columns"
   ]
  },
  {
   "cell_type": "code",
   "execution_count": 97,
   "id": "b4e31574",
   "metadata": {},
   "outputs": [
    {
     "data": {
      "text/plain": [
       "Bajaj Pulsar 150                              41\n",
       "Royal Enfield Classic 350                     27\n",
       "Honda Activa [2000-2015]                      23\n",
       "Honda CB Hornet 160R                          22\n",
       "Bajaj Pulsar 180                              20\n",
       "Royal Enfield Thunderbird 350                 19\n",
       "Hero Honda Splendor Plus                      17\n",
       "Yamaha FZ S V 2.0                             16\n",
       "Bajaj Discover 125                            16\n",
       "Honda Activa 3G                               15\n",
       "Honda Shine                                   15\n",
       "Honda CB Unicorn 150                          14\n",
       "TVS Apache RTR 160                            14\n",
       "Bajaj Pulsar 135 LS                           13\n",
       "Yamaha FZ16                                   12\n",
       "Honda Activa 5G                               12\n",
       "Hero Glamour 125                              11\n",
       "Bajaj Pulsar 150 [2001-2011]                  11\n",
       "Hero Honda CBZ extreme                        11\n",
       "Bajaj Discover 100                            11\n",
       "Hero Splendor Plus                            10\n",
       "Hero Honda Passion Plus                       10\n",
       "Bajaj Avenger Street 150 [2018]               10\n",
       "Suzuki Access 125                              9\n",
       "Honda Dream Yuga                               9\n",
       "Honda Dio                                      9\n",
       "Honda CB Shine SP                              9\n",
       "Bajaj Platina 100                              9\n",
       "Bajaj V15                                      9\n",
       "Hero Honda CD Deluxe                           9\n",
       "Bajaj Pulsar 220F                              8\n",
       "Hero HF Deluxe                                 8\n",
       "Hero Super Splendor                            8\n",
       "Yamaha Fazer [2009-2016]                       7\n",
       "TVS Apache RTR 200 4V                          7\n",
       "Honda Aviator                                  7\n",
       "Hero Honda Hunk                                7\n",
       "Yamaha FZ25                                    7\n",
       "Royal Enfield Classic Gunmetal Grey            7\n",
       "Yamaha FZ S [2012-2016]                        7\n",
       "Hero Honda Glamour                             7\n",
       "Royal Enfield Thunderbird 350X                 7\n",
       "Bajaj Avenger Street 220                       7\n",
       "Bajaj Avenger [2015]                           7\n",
       "Hero Splendor PRO                              6\n",
       "Honda CB Trigger                               6\n",
       "Honda CB Twister                               6\n",
       "Yamaha YZF R15 [2011-2018]                     6\n",
       "Bajaj CT 100                                   6\n",
       "Royal Enfield Electra 5 S                      6\n",
       "Bajaj Discover 150                             6\n",
       "Hero Honda Passion PRO [2012]                  6\n",
       "Bajaj Xcd                                      6\n",
       "Yamaha YZF R15 S                               6\n",
       "Bajaj Discover 135                             6\n",
       "Hero Pleasure                                  5\n",
       "Hero Passion Pro 110                           5\n",
       "Honda CBR-250R                                 5\n",
       "Bajaj Pulsar NS200                             5\n",
       "Royal Enfield Bullet 350 [2007-2011]           5\n",
       "Hero Maestro Edge                              5\n",
       "Hero Karizma 2014                              5\n",
       "KTM RC 200                                     5\n",
       "Honda Livo                                     5\n",
       "Hero Hunk                                      5\n",
       "Suzuki Gixxer [2014-2018]                      5\n",
       "Hero Xtreme Sports                             5\n",
       "Hero Passion PRO i3s                           5\n",
       "Bajaj Pulsar AS200                             4\n",
       "Yamaha FZ V 2.0                                4\n",
       "Hero Duet                                      4\n",
       "Bajaj Dominar 400                              4\n",
       "Royal Enfield Bullet 350                       4\n",
       "Bajaj Avenger Cruise 220                       4\n",
       "Royal Enfield Classic Desert Storm             4\n",
       "Royal Enfield Thunder 350                      4\n",
       "Bajaj Discover 100 T                           4\n",
       "Hero Maestro                                   4\n",
       "TVS Star City Plus                             4\n",
       "Suzuki Access 125 [2007-2016]                  4\n",
       "Yamaha Fascino 110                             4\n",
       "Honda Activa 125 [2016-2017]                   4\n",
       "TVS Wego                                       4\n",
       "TVS Apache RTR 160 4V                          4\n",
       "Honda Activa 125                               4\n",
       "Honda CB Unicorn 160                           4\n",
       "KTM 200 Duke                                   4\n",
       "Hero Xtreme [2013-2014]                        3\n",
       "Royal Enfield Thunder 500                      3\n",
       "KTM 390 Duke                                   3\n",
       "Bajaj Pulsar NS 200                            3\n",
       "Hero Ignitor                                   3\n",
       "Honda Navi [2016-2017]                         3\n",
       "Hero Splendor iSmart                           3\n",
       "Honda Dream Neo                                3\n",
       "KTM RC 390                                     3\n",
       "Hero Passion XPro                              3\n",
       "Bajaj Pulsar NS160                             3\n",
       "Hero Karizma ZMR                               3\n",
       "Hero CD Deluxe                                 3\n",
       "Hero Achiever 150                              3\n",
       "Yamaha Saluto                                  3\n",
       "TVS Victor                                     3\n",
       "TVS Scooty Pep Plus                            3\n",
       "Honda Activa 4G                                3\n",
       "TVS Star City                                  3\n",
       "Honda CB Unicorn Dazzler                       3\n",
       "Bajaj Boxer                                    3\n",
       "TVS Sport                                      3\n",
       "TVS Scooty Zest 110                            3\n",
       "Bajaj Pulsar 220 DTS-i                         3\n",
       "Bajaj Avenger 220                              3\n",
       "Hero Honda Splendor                            3\n",
       "Hero Xpulse 200                                3\n",
       "Hero Glamour FI                                3\n",
       "Royal Enfield Interceptor 650                  3\n",
       "Hero Honda CD100                               3\n",
       "Honda Activa i [2016-2017]                     3\n",
       "Royal Enfield Classic 500                      3\n",
       "Yamaha Fazer 25                                3\n",
       "TVS Victor GLX                                 2\n",
       "Hero Splender iSmart                           2\n",
       "Royal Enfield Electra Twinspark                2\n",
       "Hero CBZ                                       2\n",
       "Bajaj Avenger 220 dtsi                         2\n",
       "Hero CD Dawn                                   2\n",
       "Hero Passion X Pro [2016-2017]                 2\n",
       "Bajaj Avenger Street 160                       2\n",
       "Activa 3g                                      2\n",
       "Bajaj Dominar 400 [2018]                       2\n",
       "Honda Karizma                                  2\n",
       "Hero Honda Karizma ZMR [2010]                  2\n",
       "Bajaj Pulsar 220 F                             2\n",
       "Mahindra Mojo XT300                            2\n",
       "Bajaj Discover 150F                            2\n",
       "KTM 390 Duke ABS [2013-2016]                   2\n",
       "Honda CBF Stunner                              2\n",
       "Royal Enfield Himalayan                        2\n",
       "Yamaha YZF R15 V3                              2\n",
       "Bajaj Discover 150S                            2\n",
       "TVS Apache RTR 180                             2\n",
       "Yamaha FZ  v 2.0                               2\n",
       "Bajaj Pulsar RS 200                            2\n",
       "Aprilia SR 125                                 2\n",
       "Kawasaki Ninja 650 [2018-2019]                 2\n",
       "Vespa SXL 149                                  2\n",
       "Suzuki Intruder 150                            2\n",
       "Hero Honda Pleasure                            2\n",
       "KTM RC200                                      2\n",
       "Hero Xtreme 2014                               2\n",
       "Suzuki GS150R                                  2\n",
       "Honda CBR 150                                  2\n",
       "Honda CBR150 R                                 2\n",
       "Honda CB twister                               2\n",
       "Hero Passion PRO TR                            2\n",
       "Yamaha YBR 125                                 2\n",
       "Bajaj Super                                    2\n",
       "Honda CB Shine                                 2\n",
       "Honda CB Unicorn                               2\n",
       "Honda Activa i                                 2\n",
       "Hero Karizma [2003-2014]                       2\n",
       "TVS Streak                                     2\n",
       "KTM 250 Duke                                   2\n",
       "Hero Extreme                                   2\n",
       "Bajaj Pulsar 220 Fi                            2\n",
       "Royal Enfield Electra 4 S                      2\n",
       "Hero Xtreme 200R                               2\n",
       "Yamaha Ray Z                                   2\n",
       "Hero Splendor Plus i3s                         2\n",
       "Hero Passion Pro                               2\n",
       "Hero Honda Splendor NXG                        2\n",
       "Bajaj Discover 125 ST                          2\n",
       "Yamaha SZ X                                    2\n",
       "Bajaj Discover 100 M                           2\n",
       "Suzuki Gixxer SF                               2\n",
       "Royal Enfield Classic Chrome                   2\n",
       "UM Renegade Commando                           2\n",
       "Yamaha Fazer FI V 2.0 [2016-2018]              2\n",
       "Jawa Standard                                  2\n",
       "Bajaj Pulsar AS150                             2\n",
       "Bajaj Discover 125 M                           2\n",
       "Mahindra Gusto                                 2\n",
       "Hero Passion X pro                             1\n",
       "Bajaj Avenger 150                              1\n",
       "Bajaj Discover 110                             1\n",
       "Hyosung GT250R                                 1\n",
       "Royal Enfield Continental GT [2013 - 2018]     1\n",
       "Yamaha FZ 16                                   1\n",
       "Royal Enfield Thunderbird 500                  1\n",
       "Jawa 42                                        1\n",
       "Suzuki Gixxer SF Fi                            1\n",
       "Benelli TNT 25                                 1\n",
       "Hero Honda CBZ                                 1\n",
       "Hero HF Deluxe i3s                             1\n",
       "Royal Enfield Classic Signals                  1\n",
       "TVS Scooty Streak                              1\n",
       "TVS Max DLX                                    1\n",
       "Yamaha RX135                                   1\n",
       "Yo Style                                       1\n",
       "TVS Sport                                      1\n",
       "Hero Honda Passion Pro                         1\n",
       "Hero Xpulse 200T                               1\n",
       "TVS Jupiter                                    1\n",
       "Bajaj Avenger 150 street                       1\n",
       "Bajaj Pulsar 180F                              1\n",
       "Royal Enfield Classic Squadron Blue            1\n",
       "Kawasaki Ninja 300                             1\n",
       "Vespa VX 125                                   1\n",
       "Hero Splender Plus                             1\n",
       "Bajaj Pulsar  NS 200                           1\n",
       "Suzuki GSX S750                                1\n",
       "TVS Flame                                      1\n",
       "TVS Apache RR310                               1\n",
       "Honda Dream Yuga                               1\n",
       "Hero Glamour                                   1\n",
       "Yamaha Gladiator                               1\n",
       "TVS Scooty Pep DLX                             1\n",
       "UM Renegade Mojave                             1\n",
       "TVS Apache [2006]                              1\n",
       "Honda Grazia                                   1\n",
       "Suzuki Let''s                                  1\n",
       "TVS Jupyter                                    1\n",
       "Hero Honda Splendor PRO                        1\n",
       "Hero Honda Karizma                             1\n",
       "Harley-Davidson Street Bob                     1\n",
       "Bajaj Pulsar 125                               1\n",
       "Yamaha Fazer Dlx                               1\n",
       "Bajaj Pulsar 220S                              1\n",
       "Yamaha Cygnus Ray ZR                           1\n",
       "Yamaha FZ S                                    1\n",
       "Bajaj  ct 100                                  1\n",
       "TVS Radeon                                     1\n",
       "Yamaha SZ [2013-2014]                          1\n",
       "Activa 4g                                      1\n",
       "Hero Honda CD100SS                             1\n",
       "TVS XL 100 Heavy Duty                          1\n",
       "BMW G310GS                                     1\n",
       "Yamaha YZF R3                                  1\n",
       "Yamaha Alpha                                   1\n",
       "Bajaj Pulsar RS200                             1\n",
       "Yamaha SZ-S                                    1\n",
       "Suzuki Intruder 150 Fi                         1\n",
       "Hero Honda Achiever                            1\n",
       "Hero Honda Street Smart                        1\n",
       "Suzuki Swish [2012-2015]                       1\n",
       "Honda Navi                                     1\n",
       "Hero Splendor NXG                              1\n",
       "Bajaj V12                                      1\n",
       "Honda X-Blade                                  1\n",
       "TVS XL 100                                     1\n",
       "Yamaha Rx                                      1\n",
       "Vespa LX 125                                   1\n",
       "Bajaj Kristal                                  1\n",
       "Kawasaki Ninja 250R                            1\n",
       "KTM 390 Duke                                   1\n",
       "Yamaha SZ RR V 2.0                             1\n",
       "TVS Spectra                                    1\n",
       "Hero Honda Super Splendor [2005]               1\n",
       "Royal Enfield Continental GT 650               1\n",
       "Royal Enfield Classic Stealth Black            1\n",
       "Hero  Ignitor Disc                             1\n",
       "Bajaj CT 110                                   1\n",
       "TVS Centra                                     1\n",
       "KTM RC390                                      1\n",
       "Hero Pleasure [2005-2015]                      1\n",
       "KTM 125 Duke                                   1\n",
       "Mahindra Rodeo                                 1\n",
       "Suzuki SlingShot                               1\n",
       "Harley-Davidson Street 750                     1\n",
       "Mahindra Flyte                                 1\n",
       "Yamaha Saluto RX                               1\n",
       "Hero  CBZ Xtreme                               1\n",
       "Royal Enfield Bullet 500                       1\n",
       "Royal Enfield Machismo                         1\n",
       "Yamaha Fazer                                   1\n",
       "Hero Honda Passion                             1\n",
       "TVS Excel                                      1\n",
       "Royal Enfield Thunderbird 500X                 1\n",
       "Yamaha RXG                                     1\n",
       "Name: name, dtype: int64"
      ]
     },
     "execution_count": 97,
     "metadata": {},
     "output_type": "execute_result"
    }
   ],
   "source": [
    "data['name'].value_counts()"
   ]
  },
  {
   "cell_type": "code",
   "execution_count": 98,
   "id": "76a4b883",
   "metadata": {},
   "outputs": [
    {
     "data": {
      "text/plain": [
       "Text(0.5, 0, 'Count')"
      ]
     },
     "execution_count": 98,
     "metadata": {},
     "output_type": "execute_result"
    },
    {
     "data": {
      "image/png": "[encoded data removed]",
      "text/plain": [
       "<Figure size 720x576 with 1 Axes>"
      ]
     },
     "metadata": {
      "needs_background": "light"
     },
     "output_type": "display_data"
    }
   ],
   "source": [
    "#DATA VISUALIZATION\n",
    "top_bike_company = data['name'].value_counts().head(10)\n",
    "plt.figure(figsize=(10, 8))\n",
    "sns.barplot(x = top_bike_company, y = top_bike_company.index)\n",
    "plt.ylabel('Name of bike')\n",
    "plt.title('Top 10 bike company')\n",
    "plt.xlabel('Count')"
   ]
  },
  {
   "cell_type": "markdown",
   "id": "c1c357e7",
   "metadata": {},
   "source": [
    "# Data Preprocessing"
   ]
  },
  {
   "cell_type": "code",
   "execution_count": 99,
   "id": "d4905bc9",
   "metadata": {},
   "outputs": [],
   "source": [
    "#function for including 'hero_honda' under brand 'hero'\n",
    "def bike_brand(model, exc_hero_honda=False):\n",
    "    model_list=[]\n",
    "    if exc_hero_honda:\n",
    "        for i in data['name']:\n",
    "            if model in i and 'Hero' not in i:\n",
    "                model_list.append(i)\n",
    "        return model_list\n",
    "    else:\n",
    "        for i in data['name']:\n",
    "            if model in i:\n",
    "                model_list.append(i)\n",
    "        return model_list\n",
    "    "
   ]
  },
  {
   "cell_type": "code",
   "execution_count": 100,
   "id": "58268a46",
   "metadata": {},
   "outputs": [],
   "source": [
    "#major motorcycle brand list\n",
    "royal_enfield = bike_brand('Royal Enfield')\n",
    "honda = bike_brand('Honda',exc_hero_honda=True)\n",
    "bajaj = bike_brand('Bajaj')\n",
    "yamaha = bike_brand('Yamaha')\n",
    "suzuki = bike_brand('Suzuki')\n",
    "hero = bike_brand('Hero')\n",
    "tvs = bike_brand('TVS')\n",
    "ktm = bike_brand('KTM')\n"
   ]
  },
  {
   "cell_type": "code",
   "execution_count": 101,
   "id": "626d565a",
   "metadata": {},
   "outputs": [],
   "source": [
    "#creating a function to apply it on 'name' column and generate new column\n",
    "def brand(i):\n",
    "    if i in royal_enfield:\n",
    "        return 'Royal Enfield'\n",
    "    elif i in honda:\n",
    "        return 'Honda'\n",
    "    elif i in bajaj:\n",
    "        return 'Bajaj'\n",
    "    elif i in yamaha:\n",
    "        return 'Yamaha'\n",
    "    elif i in hero:\n",
    "        return 'Hero'    \n",
    "    elif i in tvs:\n",
    "        return 'TVS'    \n",
    "    elif i in suzuki:\n",
    "        return 'Suzuki'  \n",
    "    elif i in ktm:\n",
    "        return 'KTM' \n",
    "    else:\n",
    "        return 'Other'\n",
    "\n"
   ]
  },
  {
   "cell_type": "code",
   "execution_count": 102,
   "id": "8d0201f5",
   "metadata": {},
   "outputs": [
    {
     "data": {
      "text/html": [
       "<div>\n",
       "<style scoped>\n",
       "    .dataframe tbody tr th:only-of-type {\n",
       "        vertical-align: middle;\n",
       "    }\n",
       "\n",
       "    .dataframe tbody tr th {\n",
       "        vertical-align: top;\n",
       "    }\n",
       "\n",
       "    .dataframe thead th {\n",
       "        text-align: right;\n",
       "    }\n",
       "</style>\n",
       "<table border=\"1\" class=\"dataframe\">\n",
       "  <thead>\n",
       "    <tr style=\"text-align: right;\">\n",
       "      <th></th>\n",
       "      <th>name</th>\n",
       "      <th>selling_price</th>\n",
       "      <th>year</th>\n",
       "      <th>seller_type</th>\n",
       "      <th>owner</th>\n",
       "      <th>km_driven</th>\n",
       "      <th>ex_showroom_price</th>\n",
       "      <th>brand</th>\n",
       "    </tr>\n",
       "  </thead>\n",
       "  <tbody>\n",
       "    <tr>\n",
       "      <th>0</th>\n",
       "      <td>Royal Enfield Classic 350</td>\n",
       "      <td>175000</td>\n",
       "      <td>2019</td>\n",
       "      <td>Individual</td>\n",
       "      <td>1st owner</td>\n",
       "      <td>350</td>\n",
       "      <td>NaN</td>\n",
       "      <td>Royal Enfield</td>\n",
       "    </tr>\n",
       "    <tr>\n",
       "      <th>1</th>\n",
       "      <td>Honda Dio</td>\n",
       "      <td>45000</td>\n",
       "      <td>2017</td>\n",
       "      <td>Individual</td>\n",
       "      <td>1st owner</td>\n",
       "      <td>5650</td>\n",
       "      <td>NaN</td>\n",
       "      <td>Honda</td>\n",
       "    </tr>\n",
       "    <tr>\n",
       "      <th>2</th>\n",
       "      <td>Royal Enfield Classic Gunmetal Grey</td>\n",
       "      <td>150000</td>\n",
       "      <td>2018</td>\n",
       "      <td>Individual</td>\n",
       "      <td>1st owner</td>\n",
       "      <td>12000</td>\n",
       "      <td>148114.0</td>\n",
       "      <td>Royal Enfield</td>\n",
       "    </tr>\n",
       "    <tr>\n",
       "      <th>3</th>\n",
       "      <td>Yamaha Fazer FI V 2.0 [2016-2018]</td>\n",
       "      <td>65000</td>\n",
       "      <td>2015</td>\n",
       "      <td>Individual</td>\n",
       "      <td>1st owner</td>\n",
       "      <td>23000</td>\n",
       "      <td>89643.0</td>\n",
       "      <td>Yamaha</td>\n",
       "    </tr>\n",
       "    <tr>\n",
       "      <th>4</th>\n",
       "      <td>Yamaha SZ [2013-2014]</td>\n",
       "      <td>20000</td>\n",
       "      <td>2011</td>\n",
       "      <td>Individual</td>\n",
       "      <td>2nd owner</td>\n",
       "      <td>21000</td>\n",
       "      <td>NaN</td>\n",
       "      <td>Yamaha</td>\n",
       "    </tr>\n",
       "    <tr>\n",
       "      <th>5</th>\n",
       "      <td>Honda CB Twister</td>\n",
       "      <td>18000</td>\n",
       "      <td>2010</td>\n",
       "      <td>Individual</td>\n",
       "      <td>1st owner</td>\n",
       "      <td>60000</td>\n",
       "      <td>53857.0</td>\n",
       "      <td>Honda</td>\n",
       "    </tr>\n",
       "    <tr>\n",
       "      <th>6</th>\n",
       "      <td>Honda CB Hornet 160R</td>\n",
       "      <td>78500</td>\n",
       "      <td>2018</td>\n",
       "      <td>Individual</td>\n",
       "      <td>1st owner</td>\n",
       "      <td>17000</td>\n",
       "      <td>87719.0</td>\n",
       "      <td>Honda</td>\n",
       "    </tr>\n",
       "    <tr>\n",
       "      <th>7</th>\n",
       "      <td>Royal Enfield Bullet 350 [2007-2011]</td>\n",
       "      <td>180000</td>\n",
       "      <td>2008</td>\n",
       "      <td>Individual</td>\n",
       "      <td>2nd owner</td>\n",
       "      <td>39000</td>\n",
       "      <td>NaN</td>\n",
       "      <td>Royal Enfield</td>\n",
       "    </tr>\n",
       "    <tr>\n",
       "      <th>8</th>\n",
       "      <td>Hero Honda CBZ extreme</td>\n",
       "      <td>30000</td>\n",
       "      <td>2010</td>\n",
       "      <td>Individual</td>\n",
       "      <td>1st owner</td>\n",
       "      <td>32000</td>\n",
       "      <td>NaN</td>\n",
       "      <td>Hero</td>\n",
       "    </tr>\n",
       "    <tr>\n",
       "      <th>9</th>\n",
       "      <td>Bajaj Discover 125</td>\n",
       "      <td>50000</td>\n",
       "      <td>2016</td>\n",
       "      <td>Individual</td>\n",
       "      <td>1st owner</td>\n",
       "      <td>42000</td>\n",
       "      <td>60122.0</td>\n",
       "      <td>Bajaj</td>\n",
       "    </tr>\n",
       "    <tr>\n",
       "      <th>10</th>\n",
       "      <td>Yamaha FZ16</td>\n",
       "      <td>35000</td>\n",
       "      <td>2015</td>\n",
       "      <td>Individual</td>\n",
       "      <td>1st owner</td>\n",
       "      <td>32000</td>\n",
       "      <td>78712.0</td>\n",
       "      <td>Yamaha</td>\n",
       "    </tr>\n",
       "    <tr>\n",
       "      <th>11</th>\n",
       "      <td>Honda Navi</td>\n",
       "      <td>28000</td>\n",
       "      <td>2016</td>\n",
       "      <td>Individual</td>\n",
       "      <td>2nd owner</td>\n",
       "      <td>10000</td>\n",
       "      <td>47255.0</td>\n",
       "      <td>Honda</td>\n",
       "    </tr>\n",
       "    <tr>\n",
       "      <th>12</th>\n",
       "      <td>Bajaj Avenger Street 220</td>\n",
       "      <td>80000</td>\n",
       "      <td>2018</td>\n",
       "      <td>Individual</td>\n",
       "      <td>1st owner</td>\n",
       "      <td>21178</td>\n",
       "      <td>95955.0</td>\n",
       "      <td>Bajaj</td>\n",
       "    </tr>\n",
       "    <tr>\n",
       "      <th>13</th>\n",
       "      <td>Yamaha YZF R3</td>\n",
       "      <td>365000</td>\n",
       "      <td>2019</td>\n",
       "      <td>Individual</td>\n",
       "      <td>1st owner</td>\n",
       "      <td>1127</td>\n",
       "      <td>351680.0</td>\n",
       "      <td>Yamaha</td>\n",
       "    </tr>\n",
       "    <tr>\n",
       "      <th>14</th>\n",
       "      <td>Jawa 42</td>\n",
       "      <td>185000</td>\n",
       "      <td>2020</td>\n",
       "      <td>Individual</td>\n",
       "      <td>1st owner</td>\n",
       "      <td>1700</td>\n",
       "      <td>NaN</td>\n",
       "      <td>Other</td>\n",
       "    </tr>\n",
       "    <tr>\n",
       "      <th>15</th>\n",
       "      <td>Suzuki Access 125 [2007-2016]</td>\n",
       "      <td>25000</td>\n",
       "      <td>2012</td>\n",
       "      <td>Individual</td>\n",
       "      <td>1st owner</td>\n",
       "      <td>55000</td>\n",
       "      <td>58314.0</td>\n",
       "      <td>Suzuki</td>\n",
       "    </tr>\n",
       "    <tr>\n",
       "      <th>16</th>\n",
       "      <td>Hero Honda Glamour</td>\n",
       "      <td>25000</td>\n",
       "      <td>2006</td>\n",
       "      <td>Individual</td>\n",
       "      <td>1st owner</td>\n",
       "      <td>27000</td>\n",
       "      <td>NaN</td>\n",
       "      <td>Hero</td>\n",
       "    </tr>\n",
       "    <tr>\n",
       "      <th>17</th>\n",
       "      <td>Yamaha YZF R15 S</td>\n",
       "      <td>40000</td>\n",
       "      <td>2010</td>\n",
       "      <td>Individual</td>\n",
       "      <td>2nd owner</td>\n",
       "      <td>45000</td>\n",
       "      <td>117926.0</td>\n",
       "      <td>Yamaha</td>\n",
       "    </tr>\n",
       "    <tr>\n",
       "      <th>18</th>\n",
       "      <td>Royal Enfield Classic Gunmetal Grey</td>\n",
       "      <td>150000</td>\n",
       "      <td>2018</td>\n",
       "      <td>Individual</td>\n",
       "      <td>1st owner</td>\n",
       "      <td>23000</td>\n",
       "      <td>148114.0</td>\n",
       "      <td>Royal Enfield</td>\n",
       "    </tr>\n",
       "    <tr>\n",
       "      <th>19</th>\n",
       "      <td>Yamaha FZ25</td>\n",
       "      <td>120000</td>\n",
       "      <td>2018</td>\n",
       "      <td>Individual</td>\n",
       "      <td>1st owner</td>\n",
       "      <td>39000</td>\n",
       "      <td>132680.0</td>\n",
       "      <td>Yamaha</td>\n",
       "    </tr>\n",
       "  </tbody>\n",
       "</table>\n",
       "</div>"
      ],
      "text/plain": [
       "                                    name  selling_price  year seller_type  \\\n",
       "0              Royal Enfield Classic 350         175000  2019  Individual   \n",
       "1                              Honda Dio          45000  2017  Individual   \n",
       "2    Royal Enfield Classic Gunmetal Grey         150000  2018  Individual   \n",
       "3      Yamaha Fazer FI V 2.0 [2016-2018]          65000  2015  Individual   \n",
       "4                  Yamaha SZ [2013-2014]          20000  2011  Individual   \n",
       "5                       Honda CB Twister          18000  2010  Individual   \n",
       "6                   Honda CB Hornet 160R          78500  2018  Individual   \n",
       "7   Royal Enfield Bullet 350 [2007-2011]         180000  2008  Individual   \n",
       "8                 Hero Honda CBZ extreme          30000  2010  Individual   \n",
       "9                     Bajaj Discover 125          50000  2016  Individual   \n",
       "10                           Yamaha FZ16          35000  2015  Individual   \n",
       "11                            Honda Navi          28000  2016  Individual   \n",
       "12              Bajaj Avenger Street 220          80000  2018  Individual   \n",
       "13                         Yamaha YZF R3         365000  2019  Individual   \n",
       "14                               Jawa 42         185000  2020  Individual   \n",
       "15         Suzuki Access 125 [2007-2016]          25000  2012  Individual   \n",
       "16                    Hero Honda Glamour          25000  2006  Individual   \n",
       "17                      Yamaha YZF R15 S          40000  2010  Individual   \n",
       "18   Royal Enfield Classic Gunmetal Grey         150000  2018  Individual   \n",
       "19                           Yamaha FZ25         120000  2018  Individual   \n",
       "\n",
       "        owner  km_driven  ex_showroom_price          brand  \n",
       "0   1st owner        350                NaN  Royal Enfield  \n",
       "1   1st owner       5650                NaN          Honda  \n",
       "2   1st owner      12000           148114.0  Royal Enfield  \n",
       "3   1st owner      23000            89643.0         Yamaha  \n",
       "4   2nd owner      21000                NaN         Yamaha  \n",
       "5   1st owner      60000            53857.0          Honda  \n",
       "6   1st owner      17000            87719.0          Honda  \n",
       "7   2nd owner      39000                NaN  Royal Enfield  \n",
       "8   1st owner      32000                NaN           Hero  \n",
       "9   1st owner      42000            60122.0          Bajaj  \n",
       "10  1st owner      32000            78712.0         Yamaha  \n",
       "11  2nd owner      10000            47255.0          Honda  \n",
       "12  1st owner      21178            95955.0          Bajaj  \n",
       "13  1st owner       1127           351680.0         Yamaha  \n",
       "14  1st owner       1700                NaN          Other  \n",
       "15  1st owner      55000            58314.0         Suzuki  \n",
       "16  1st owner      27000                NaN           Hero  \n",
       "17  2nd owner      45000           117926.0         Yamaha  \n",
       "18  1st owner      23000           148114.0  Royal Enfield  \n",
       "19  1st owner      39000           132680.0         Yamaha  "
      ]
     },
     "execution_count": 102,
     "metadata": {},
     "output_type": "execute_result"
    }
   ],
   "source": [
    "data['brand'] = data['name'].apply(lambda x:brand(x))\n",
    "data.head(20)"
   ]
  },
  {
   "cell_type": "code",
   "execution_count": 103,
   "id": "a19f3065",
   "metadata": {},
   "outputs": [],
   "source": [
    "data.drop(columns='name',axis=1, inplace=True)"
   ]
  },
  {
   "cell_type": "code",
   "execution_count": 104,
   "id": "d8358da0",
   "metadata": {},
   "outputs": [
    {
     "data": {
      "text/html": [
       "<div>\n",
       "<style scoped>\n",
       "    .dataframe tbody tr th:only-of-type {\n",
       "        vertical-align: middle;\n",
       "    }\n",
       "\n",
       "    .dataframe tbody tr th {\n",
       "        vertical-align: top;\n",
       "    }\n",
       "\n",
       "    .dataframe thead th {\n",
       "        text-align: right;\n",
       "    }\n",
       "</style>\n",
       "<table border=\"1\" class=\"dataframe\">\n",
       "  <thead>\n",
       "    <tr style=\"text-align: right;\">\n",
       "      <th></th>\n",
       "      <th>selling_price</th>\n",
       "      <th>year</th>\n",
       "      <th>seller_type</th>\n",
       "      <th>owner</th>\n",
       "      <th>km_driven</th>\n",
       "      <th>ex_showroom_price</th>\n",
       "      <th>brand</th>\n",
       "    </tr>\n",
       "  </thead>\n",
       "  <tbody>\n",
       "    <tr>\n",
       "      <th>0</th>\n",
       "      <td>175000</td>\n",
       "      <td>2019</td>\n",
       "      <td>Individual</td>\n",
       "      <td>1st owner</td>\n",
       "      <td>350</td>\n",
       "      <td>NaN</td>\n",
       "      <td>Royal Enfield</td>\n",
       "    </tr>\n",
       "    <tr>\n",
       "      <th>1</th>\n",
       "      <td>45000</td>\n",
       "      <td>2017</td>\n",
       "      <td>Individual</td>\n",
       "      <td>1st owner</td>\n",
       "      <td>5650</td>\n",
       "      <td>NaN</td>\n",
       "      <td>Honda</td>\n",
       "    </tr>\n",
       "    <tr>\n",
       "      <th>2</th>\n",
       "      <td>150000</td>\n",
       "      <td>2018</td>\n",
       "      <td>Individual</td>\n",
       "      <td>1st owner</td>\n",
       "      <td>12000</td>\n",
       "      <td>148114.0</td>\n",
       "      <td>Royal Enfield</td>\n",
       "    </tr>\n",
       "    <tr>\n",
       "      <th>3</th>\n",
       "      <td>65000</td>\n",
       "      <td>2015</td>\n",
       "      <td>Individual</td>\n",
       "      <td>1st owner</td>\n",
       "      <td>23000</td>\n",
       "      <td>89643.0</td>\n",
       "      <td>Yamaha</td>\n",
       "    </tr>\n",
       "    <tr>\n",
       "      <th>4</th>\n",
       "      <td>20000</td>\n",
       "      <td>2011</td>\n",
       "      <td>Individual</td>\n",
       "      <td>2nd owner</td>\n",
       "      <td>21000</td>\n",
       "      <td>NaN</td>\n",
       "      <td>Yamaha</td>\n",
       "    </tr>\n",
       "  </tbody>\n",
       "</table>\n",
       "</div>"
      ],
      "text/plain": [
       "   selling_price  year seller_type      owner  km_driven  ex_showroom_price  \\\n",
       "0         175000  2019  Individual  1st owner        350                NaN   \n",
       "1          45000  2017  Individual  1st owner       5650                NaN   \n",
       "2         150000  2018  Individual  1st owner      12000           148114.0   \n",
       "3          65000  2015  Individual  1st owner      23000            89643.0   \n",
       "4          20000  2011  Individual  2nd owner      21000                NaN   \n",
       "\n",
       "           brand  \n",
       "0  Royal Enfield  \n",
       "1          Honda  \n",
       "2  Royal Enfield  \n",
       "3         Yamaha  \n",
       "4         Yamaha  "
      ]
     },
     "execution_count": 104,
     "metadata": {},
     "output_type": "execute_result"
    }
   ],
   "source": [
    "# now we drop the 'name' column\n",
    "\n",
    "data.head()"
   ]
  },
  {
   "cell_type": "code",
   "execution_count": 105,
   "id": "443cc7ea",
   "metadata": {},
   "outputs": [],
   "source": [
    "#imputing the missing value in 'ex_showroom_price' using category class\n",
    "list = data['brand'].unique()\n",
    "data_copy = data.copy()\n",
    "for i in list:\n",
    "    data_copy.update(data[data.loc[:,'brand']==i]['ex_showroom_price'].replace(np.nan,data[data.loc[:,'brand']==i]['ex_showroom_price'].mean()))\n"
   ]
  },
  {
   "cell_type": "code",
   "execution_count": 106,
   "id": "a55de5bf",
   "metadata": {},
   "outputs": [
    {
     "data": {
      "text/plain": [
       "selling_price        0\n",
       "year                 0\n",
       "seller_type          0\n",
       "owner                0\n",
       "km_driven            0\n",
       "ex_showroom_price    0\n",
       "brand                0\n",
       "dtype: int64"
      ]
     },
     "execution_count": 106,
     "metadata": {},
     "output_type": "execute_result"
    }
   ],
   "source": [
    "data_copy.isnull().sum()"
   ]
  },
  {
   "cell_type": "code",
   "execution_count": 107,
   "id": "04a3fcbf",
   "metadata": {},
   "outputs": [
    {
     "data": {
      "text/plain": [
       "<AxesSubplot:xlabel='ex_showroom_price', ylabel='Density'>"
      ]
     },
     "execution_count": 107,
     "metadata": {},
     "output_type": "execute_result"
    },
    {
     "data": {
      "image/png": "[encoded data removed]",
      "text/plain": [
       "<Figure size 720x720 with 1 Axes>"
      ]
     },
     "metadata": {
      "needs_background": "light"
     },
     "output_type": "display_data"
    }
   ],
   "source": [
    "plt.figure(figsize=(10,10))\n",
    "sns.distplot(data_copy['ex_showroom_price'])"
   ]
  },
  {
   "cell_type": "code",
   "execution_count": 108,
   "id": "005629be",
   "metadata": {
    "scrolled": true
   },
   "outputs": [
    {
     "data": {
      "text/plain": [
       "<AxesSubplot:xlabel='ex_showroom_price', ylabel='Density'>"
      ]
     },
     "execution_count": 108,
     "metadata": {},
     "output_type": "execute_result"
    },
    {
     "data": {
      "image/png": "[encoded data removed]",
      "text/plain": [
       "<Figure size 720x720 with 1 Axes>"
      ]
     },
     "metadata": {
      "needs_background": "light"
     },
     "output_type": "display_data"
    }
   ],
   "source": [
    "plt.figure(figsize=(10,10))\n",
    "sns.distplot(data['ex_showroom_price'])\n"
   ]
  },
  {
   "cell_type": "code",
   "execution_count": 109,
   "id": "76043cb2",
   "metadata": {},
   "outputs": [
    {
     "data": {
      "text/plain": [
       "<matplotlib.collections.PathCollection at 0x1ff98c2b280>"
      ]
     },
     "execution_count": 109,
     "metadata": {},
     "output_type": "execute_result"
    },
    {
     "data": {
      "image/png": "[encoded data removed]",
      "text/plain": [
       "<Figure size 720x720 with 1 Axes>"
      ]
     },
     "metadata": {
      "needs_background": "light"
     },
     "output_type": "display_data"
    }
   ],
   "source": [
    "plt.figure(figsize=(10,10))\n",
    "plt.scatter(data['ex_showroom_price'], data['brand'], marker='o',linewidths=1)\n",
    "plt.scatter(data_copy['ex_showroom_price'], data_copy['brand'], marker='x',linewidths=1.5)"
   ]
  },
  {
   "cell_type": "code",
   "execution_count": 110,
   "id": "a2b0a2c1",
   "metadata": {},
   "outputs": [
    {
     "data": {
      "text/plain": [
       "742838.8000000083"
      ]
     },
     "execution_count": 110,
     "metadata": {},
     "output_type": "execute_result"
    }
   ],
   "source": [
    "max_threshold = data_copy['ex_showroom_price'].quantile(0.999) # outlier Detection\n",
    "max_threshold"
   ]
  },
  {
   "cell_type": "code",
   "execution_count": 111,
   "id": "baf47d51",
   "metadata": {},
   "outputs": [
    {
     "data": {
      "text/html": [
       "<div>\n",
       "<style scoped>\n",
       "    .dataframe tbody tr th:only-of-type {\n",
       "        vertical-align: middle;\n",
       "    }\n",
       "\n",
       "    .dataframe tbody tr th {\n",
       "        vertical-align: top;\n",
       "    }\n",
       "\n",
       "    .dataframe thead th {\n",
       "        text-align: right;\n",
       "    }\n",
       "</style>\n",
       "<table border=\"1\" class=\"dataframe\">\n",
       "  <thead>\n",
       "    <tr style=\"text-align: right;\">\n",
       "      <th></th>\n",
       "      <th>selling_price</th>\n",
       "      <th>year</th>\n",
       "      <th>seller_type</th>\n",
       "      <th>owner</th>\n",
       "      <th>km_driven</th>\n",
       "      <th>ex_showroom_price</th>\n",
       "      <th>brand</th>\n",
       "    </tr>\n",
       "  </thead>\n",
       "  <tbody>\n",
       "    <tr>\n",
       "      <th>134</th>\n",
       "      <td>750000</td>\n",
       "      <td>2013</td>\n",
       "      <td>Individual</td>\n",
       "      <td>2nd owner</td>\n",
       "      <td>12000</td>\n",
       "      <td>1278000.0</td>\n",
       "      <td>Other</td>\n",
       "    </tr>\n",
       "    <tr>\n",
       "      <th>295</th>\n",
       "      <td>760000</td>\n",
       "      <td>2019</td>\n",
       "      <td>Individual</td>\n",
       "      <td>1st owner</td>\n",
       "      <td>2800</td>\n",
       "      <td>752020.0</td>\n",
       "      <td>Suzuki</td>\n",
       "    </tr>\n",
       "  </tbody>\n",
       "</table>\n",
       "</div>"
      ],
      "text/plain": [
       "     selling_price  year seller_type      owner  km_driven  ex_showroom_price  \\\n",
       "134         750000  2013  Individual  2nd owner      12000          1278000.0   \n",
       "295         760000  2019  Individual  1st owner       2800           752020.0   \n",
       "\n",
       "      brand  \n",
       "134   Other  \n",
       "295  Suzuki  "
      ]
     },
     "execution_count": 111,
     "metadata": {},
     "output_type": "execute_result"
    }
   ],
   "source": [
    "data_copy[data_copy['ex_showroom_price']>max_threshold]"
   ]
  },
  {
   "cell_type": "code",
   "execution_count": 112,
   "id": "9327c35a",
   "metadata": {},
   "outputs": [
    {
     "data": {
      "text/plain": [
       "32340.5"
      ]
     },
     "execution_count": 112,
     "metadata": {},
     "output_type": "execute_result"
    }
   ],
   "source": [
    "min_threshold = data_copy['ex_showroom_price'].quantile(0.001)\n",
    "min_threshold"
   ]
  },
  {
   "cell_type": "code",
   "execution_count": 113,
   "id": "6284280c",
   "metadata": {},
   "outputs": [
    {
     "data": {
      "text/html": [
       "<div>\n",
       "<style scoped>\n",
       "    .dataframe tbody tr th:only-of-type {\n",
       "        vertical-align: middle;\n",
       "    }\n",
       "\n",
       "    .dataframe tbody tr th {\n",
       "        vertical-align: top;\n",
       "    }\n",
       "\n",
       "    .dataframe thead th {\n",
       "        text-align: right;\n",
       "    }\n",
       "</style>\n",
       "<table border=\"1\" class=\"dataframe\">\n",
       "  <thead>\n",
       "    <tr style=\"text-align: right;\">\n",
       "      <th></th>\n",
       "      <th>selling_price</th>\n",
       "      <th>year</th>\n",
       "      <th>seller_type</th>\n",
       "      <th>owner</th>\n",
       "      <th>km_driven</th>\n",
       "      <th>ex_showroom_price</th>\n",
       "      <th>brand</th>\n",
       "    </tr>\n",
       "  </thead>\n",
       "  <tbody>\n",
       "    <tr>\n",
       "      <th>851</th>\n",
       "      <td>30000</td>\n",
       "      <td>2017</td>\n",
       "      <td>Individual</td>\n",
       "      <td>1st owner</td>\n",
       "      <td>8000</td>\n",
       "      <td>30490.0</td>\n",
       "      <td>TVS</td>\n",
       "    </tr>\n",
       "    <tr>\n",
       "      <th>1055</th>\n",
       "      <td>18000</td>\n",
       "      <td>2017</td>\n",
       "      <td>Individual</td>\n",
       "      <td>1st owner</td>\n",
       "      <td>35000</td>\n",
       "      <td>32000.0</td>\n",
       "      <td>Bajaj</td>\n",
       "    </tr>\n",
       "  </tbody>\n",
       "</table>\n",
       "</div>"
      ],
      "text/plain": [
       "      selling_price  year seller_type      owner  km_driven  \\\n",
       "851           30000  2017  Individual  1st owner       8000   \n",
       "1055          18000  2017  Individual  1st owner      35000   \n",
       "\n",
       "      ex_showroom_price  brand  \n",
       "851             30490.0    TVS  \n",
       "1055            32000.0  Bajaj  "
      ]
     },
     "execution_count": 113,
     "metadata": {},
     "output_type": "execute_result"
    }
   ],
   "source": [
    "data_copy[data_copy['ex_showroom_price']<min_threshold]"
   ]
  },
  {
   "cell_type": "code",
   "execution_count": 114,
   "id": "e71f92be",
   "metadata": {},
   "outputs": [],
   "source": [
    "data_3 = data_copy[data_copy['ex_showroom_price']<max_threshold] #removing outlier"
   ]
  },
  {
   "cell_type": "code",
   "execution_count": 115,
   "id": "f5da0918",
   "metadata": {},
   "outputs": [
    {
     "data": {
      "text/plain": [
       "(1059, 7)"
      ]
     },
     "execution_count": 115,
     "metadata": {},
     "output_type": "execute_result"
    }
   ],
   "source": [
    "data_3.shape"
   ]
  },
  {
   "cell_type": "code",
   "execution_count": 116,
   "id": "ee86bc20",
   "metadata": {},
   "outputs": [
    {
     "data": {
      "text/html": [
       "<div>\n",
       "<style scoped>\n",
       "    .dataframe tbody tr th:only-of-type {\n",
       "        vertical-align: middle;\n",
       "    }\n",
       "\n",
       "    .dataframe tbody tr th {\n",
       "        vertical-align: top;\n",
       "    }\n",
       "\n",
       "    .dataframe thead th {\n",
       "        text-align: right;\n",
       "    }\n",
       "</style>\n",
       "<table border=\"1\" class=\"dataframe\">\n",
       "  <thead>\n",
       "    <tr style=\"text-align: right;\">\n",
       "      <th></th>\n",
       "      <th>selling_price</th>\n",
       "      <th>year</th>\n",
       "      <th>km_driven</th>\n",
       "      <th>ex_showroom_price</th>\n",
       "    </tr>\n",
       "  </thead>\n",
       "  <tbody>\n",
       "    <tr>\n",
       "      <th>count</th>\n",
       "      <td>1059.000000</td>\n",
       "      <td>1059.000000</td>\n",
       "      <td>1059.000000</td>\n",
       "      <td>1059.000000</td>\n",
       "    </tr>\n",
       "    <tr>\n",
       "      <th>mean</th>\n",
       "      <td>58324.909348</td>\n",
       "      <td>2013.863078</td>\n",
       "      <td>34410.748820</td>\n",
       "      <td>88477.172672</td>\n",
       "    </tr>\n",
       "    <tr>\n",
       "      <th>std</th>\n",
       "      <td>47543.146605</td>\n",
       "      <td>4.302277</td>\n",
       "      <td>51658.213653</td>\n",
       "      <td>52233.947333</td>\n",
       "    </tr>\n",
       "    <tr>\n",
       "      <th>min</th>\n",
       "      <td>5000.000000</td>\n",
       "      <td>1988.000000</td>\n",
       "      <td>350.000000</td>\n",
       "      <td>30490.000000</td>\n",
       "    </tr>\n",
       "    <tr>\n",
       "      <th>25%</th>\n",
       "      <td>28000.000000</td>\n",
       "      <td>2011.000000</td>\n",
       "      <td>13650.000000</td>\n",
       "      <td>59302.500000</td>\n",
       "    </tr>\n",
       "    <tr>\n",
       "      <th>50%</th>\n",
       "      <td>45000.000000</td>\n",
       "      <td>2015.000000</td>\n",
       "      <td>25000.000000</td>\n",
       "      <td>72938.951049</td>\n",
       "    </tr>\n",
       "    <tr>\n",
       "      <th>75%</th>\n",
       "      <td>70000.000000</td>\n",
       "      <td>2017.000000</td>\n",
       "      <td>43000.000000</td>\n",
       "      <td>87292.500000</td>\n",
       "    </tr>\n",
       "    <tr>\n",
       "      <th>max</th>\n",
       "      <td>425000.000000</td>\n",
       "      <td>2020.000000</td>\n",
       "      <td>880000.000000</td>\n",
       "      <td>599000.000000</td>\n",
       "    </tr>\n",
       "  </tbody>\n",
       "</table>\n",
       "</div>"
      ],
      "text/plain": [
       "       selling_price         year      km_driven  ex_showroom_price\n",
       "count    1059.000000  1059.000000    1059.000000        1059.000000\n",
       "mean    58324.909348  2013.863078   34410.748820       88477.172672\n",
       "std     47543.146605     4.302277   51658.213653       52233.947333\n",
       "min      5000.000000  1988.000000     350.000000       30490.000000\n",
       "25%     28000.000000  2011.000000   13650.000000       59302.500000\n",
       "50%     45000.000000  2015.000000   25000.000000       72938.951049\n",
       "75%     70000.000000  2017.000000   43000.000000       87292.500000\n",
       "max    425000.000000  2020.000000  880000.000000      599000.000000"
      ]
     },
     "execution_count": 116,
     "metadata": {},
     "output_type": "execute_result"
    }
   ],
   "source": [
    "data_3.describe()"
   ]
  },
  {
   "cell_type": "code",
   "execution_count": 117,
   "id": "c57b684c",
   "metadata": {},
   "outputs": [
    {
     "data": {
      "text/html": [
       "<div>\n",
       "<style scoped>\n",
       "    .dataframe tbody tr th:only-of-type {\n",
       "        vertical-align: middle;\n",
       "    }\n",
       "\n",
       "    .dataframe tbody tr th {\n",
       "        vertical-align: top;\n",
       "    }\n",
       "\n",
       "    .dataframe thead th {\n",
       "        text-align: right;\n",
       "    }\n",
       "</style>\n",
       "<table border=\"1\" class=\"dataframe\">\n",
       "  <thead>\n",
       "    <tr style=\"text-align: right;\">\n",
       "      <th></th>\n",
       "      <th>selling_price</th>\n",
       "      <th>year</th>\n",
       "      <th>seller_type</th>\n",
       "      <th>owner</th>\n",
       "      <th>km_driven</th>\n",
       "      <th>ex_showroom_price</th>\n",
       "      <th>brand</th>\n",
       "      <th>curr_yr</th>\n",
       "    </tr>\n",
       "  </thead>\n",
       "  <tbody>\n",
       "    <tr>\n",
       "      <th>0</th>\n",
       "      <td>175000</td>\n",
       "      <td>2019</td>\n",
       "      <td>Individual</td>\n",
       "      <td>1st owner</td>\n",
       "      <td>350</td>\n",
       "      <td>165413.050000</td>\n",
       "      <td>Royal Enfield</td>\n",
       "      <td>2021</td>\n",
       "    </tr>\n",
       "    <tr>\n",
       "      <th>1</th>\n",
       "      <td>45000</td>\n",
       "      <td>2017</td>\n",
       "      <td>Individual</td>\n",
       "      <td>1st owner</td>\n",
       "      <td>5650</td>\n",
       "      <td>69254.158824</td>\n",
       "      <td>Honda</td>\n",
       "      <td>2021</td>\n",
       "    </tr>\n",
       "    <tr>\n",
       "      <th>2</th>\n",
       "      <td>150000</td>\n",
       "      <td>2018</td>\n",
       "      <td>Individual</td>\n",
       "      <td>1st owner</td>\n",
       "      <td>12000</td>\n",
       "      <td>148114.000000</td>\n",
       "      <td>Royal Enfield</td>\n",
       "      <td>2021</td>\n",
       "    </tr>\n",
       "    <tr>\n",
       "      <th>3</th>\n",
       "      <td>65000</td>\n",
       "      <td>2015</td>\n",
       "      <td>Individual</td>\n",
       "      <td>1st owner</td>\n",
       "      <td>23000</td>\n",
       "      <td>89643.000000</td>\n",
       "      <td>Yamaha</td>\n",
       "      <td>2021</td>\n",
       "    </tr>\n",
       "    <tr>\n",
       "      <th>4</th>\n",
       "      <td>20000</td>\n",
       "      <td>2011</td>\n",
       "      <td>Individual</td>\n",
       "      <td>2nd owner</td>\n",
       "      <td>21000</td>\n",
       "      <td>91438.755319</td>\n",
       "      <td>Yamaha</td>\n",
       "      <td>2021</td>\n",
       "    </tr>\n",
       "  </tbody>\n",
       "</table>\n",
       "</div>"
      ],
      "text/plain": [
       "   selling_price  year seller_type      owner  km_driven  ex_showroom_price  \\\n",
       "0         175000  2019  Individual  1st owner        350      165413.050000   \n",
       "1          45000  2017  Individual  1st owner       5650       69254.158824   \n",
       "2         150000  2018  Individual  1st owner      12000      148114.000000   \n",
       "3          65000  2015  Individual  1st owner      23000       89643.000000   \n",
       "4          20000  2011  Individual  2nd owner      21000       91438.755319   \n",
       "\n",
       "           brand  curr_yr  \n",
       "0  Royal Enfield     2021  \n",
       "1          Honda     2021  \n",
       "2  Royal Enfield     2021  \n",
       "3         Yamaha     2021  \n",
       "4         Yamaha     2021  "
      ]
     },
     "execution_count": 117,
     "metadata": {},
     "output_type": "execute_result"
    }
   ],
   "source": [
    "data_3['curr_yr'] = 2021\n",
    "data_3.head()"
   ]
  },
  {
   "cell_type": "code",
   "execution_count": 118,
   "id": "34c25f32",
   "metadata": {},
   "outputs": [
    {
     "data": {
      "text/html": [
       "<div>\n",
       "<style scoped>\n",
       "    .dataframe tbody tr th:only-of-type {\n",
       "        vertical-align: middle;\n",
       "    }\n",
       "\n",
       "    .dataframe tbody tr th {\n",
       "        vertical-align: top;\n",
       "    }\n",
       "\n",
       "    .dataframe thead th {\n",
       "        text-align: right;\n",
       "    }\n",
       "</style>\n",
       "<table border=\"1\" class=\"dataframe\">\n",
       "  <thead>\n",
       "    <tr style=\"text-align: right;\">\n",
       "      <th></th>\n",
       "      <th>selling_price</th>\n",
       "      <th>year</th>\n",
       "      <th>seller_type</th>\n",
       "      <th>owner</th>\n",
       "      <th>km_driven</th>\n",
       "      <th>ex_showroom_price</th>\n",
       "      <th>brand</th>\n",
       "      <th>curr_yr</th>\n",
       "      <th>no_of_yr</th>\n",
       "    </tr>\n",
       "  </thead>\n",
       "  <tbody>\n",
       "    <tr>\n",
       "      <th>0</th>\n",
       "      <td>175000</td>\n",
       "      <td>2019</td>\n",
       "      <td>Individual</td>\n",
       "      <td>1st owner</td>\n",
       "      <td>350</td>\n",
       "      <td>165413.050000</td>\n",
       "      <td>Royal Enfield</td>\n",
       "      <td>2021</td>\n",
       "      <td>2</td>\n",
       "    </tr>\n",
       "    <tr>\n",
       "      <th>1</th>\n",
       "      <td>45000</td>\n",
       "      <td>2017</td>\n",
       "      <td>Individual</td>\n",
       "      <td>1st owner</td>\n",
       "      <td>5650</td>\n",
       "      <td>69254.158824</td>\n",
       "      <td>Honda</td>\n",
       "      <td>2021</td>\n",
       "      <td>4</td>\n",
       "    </tr>\n",
       "    <tr>\n",
       "      <th>2</th>\n",
       "      <td>150000</td>\n",
       "      <td>2018</td>\n",
       "      <td>Individual</td>\n",
       "      <td>1st owner</td>\n",
       "      <td>12000</td>\n",
       "      <td>148114.000000</td>\n",
       "      <td>Royal Enfield</td>\n",
       "      <td>2021</td>\n",
       "      <td>3</td>\n",
       "    </tr>\n",
       "    <tr>\n",
       "      <th>3</th>\n",
       "      <td>65000</td>\n",
       "      <td>2015</td>\n",
       "      <td>Individual</td>\n",
       "      <td>1st owner</td>\n",
       "      <td>23000</td>\n",
       "      <td>89643.000000</td>\n",
       "      <td>Yamaha</td>\n",
       "      <td>2021</td>\n",
       "      <td>6</td>\n",
       "    </tr>\n",
       "    <tr>\n",
       "      <th>4</th>\n",
       "      <td>20000</td>\n",
       "      <td>2011</td>\n",
       "      <td>Individual</td>\n",
       "      <td>2nd owner</td>\n",
       "      <td>21000</td>\n",
       "      <td>91438.755319</td>\n",
       "      <td>Yamaha</td>\n",
       "      <td>2021</td>\n",
       "      <td>10</td>\n",
       "    </tr>\n",
       "  </tbody>\n",
       "</table>\n",
       "</div>"
      ],
      "text/plain": [
       "   selling_price  year seller_type      owner  km_driven  ex_showroom_price  \\\n",
       "0         175000  2019  Individual  1st owner        350      165413.050000   \n",
       "1          45000  2017  Individual  1st owner       5650       69254.158824   \n",
       "2         150000  2018  Individual  1st owner      12000      148114.000000   \n",
       "3          65000  2015  Individual  1st owner      23000       89643.000000   \n",
       "4          20000  2011  Individual  2nd owner      21000       91438.755319   \n",
       "\n",
       "           brand  curr_yr  no_of_yr  \n",
       "0  Royal Enfield     2021         2  \n",
       "1          Honda     2021         4  \n",
       "2  Royal Enfield     2021         3  \n",
       "3         Yamaha     2021         6  \n",
       "4         Yamaha     2021        10  "
      ]
     },
     "execution_count": 118,
     "metadata": {},
     "output_type": "execute_result"
    }
   ],
   "source": [
    "data_3['no_of_yr'] = data_3['curr_yr'] - data_3['year']\n",
    "data_3.head()"
   ]
  },
  {
   "cell_type": "code",
   "execution_count": 119,
   "id": "aa8dc301",
   "metadata": {},
   "outputs": [],
   "source": [
    "data_3.drop(columns=['year','curr_yr'], inplace=True)"
   ]
  },
  {
   "cell_type": "code",
   "execution_count": 120,
   "id": "044a2028",
   "metadata": {},
   "outputs": [
    {
     "data": {
      "text/html": [
       "<div>\n",
       "<style scoped>\n",
       "    .dataframe tbody tr th:only-of-type {\n",
       "        vertical-align: middle;\n",
       "    }\n",
       "\n",
       "    .dataframe tbody tr th {\n",
       "        vertical-align: top;\n",
       "    }\n",
       "\n",
       "    .dataframe thead th {\n",
       "        text-align: right;\n",
       "    }\n",
       "</style>\n",
       "<table border=\"1\" class=\"dataframe\">\n",
       "  <thead>\n",
       "    <tr style=\"text-align: right;\">\n",
       "      <th></th>\n",
       "      <th>selling_price</th>\n",
       "      <th>seller_type</th>\n",
       "      <th>owner</th>\n",
       "      <th>km_driven</th>\n",
       "      <th>ex_showroom_price</th>\n",
       "      <th>brand</th>\n",
       "      <th>no_of_yr</th>\n",
       "    </tr>\n",
       "  </thead>\n",
       "  <tbody>\n",
       "    <tr>\n",
       "      <th>0</th>\n",
       "      <td>175000</td>\n",
       "      <td>Individual</td>\n",
       "      <td>1st owner</td>\n",
       "      <td>350</td>\n",
       "      <td>165413.050000</td>\n",
       "      <td>Royal Enfield</td>\n",
       "      <td>2</td>\n",
       "    </tr>\n",
       "    <tr>\n",
       "      <th>1</th>\n",
       "      <td>45000</td>\n",
       "      <td>Individual</td>\n",
       "      <td>1st owner</td>\n",
       "      <td>5650</td>\n",
       "      <td>69254.158824</td>\n",
       "      <td>Honda</td>\n",
       "      <td>4</td>\n",
       "    </tr>\n",
       "    <tr>\n",
       "      <th>2</th>\n",
       "      <td>150000</td>\n",
       "      <td>Individual</td>\n",
       "      <td>1st owner</td>\n",
       "      <td>12000</td>\n",
       "      <td>148114.000000</td>\n",
       "      <td>Royal Enfield</td>\n",
       "      <td>3</td>\n",
       "    </tr>\n",
       "    <tr>\n",
       "      <th>3</th>\n",
       "      <td>65000</td>\n",
       "      <td>Individual</td>\n",
       "      <td>1st owner</td>\n",
       "      <td>23000</td>\n",
       "      <td>89643.000000</td>\n",
       "      <td>Yamaha</td>\n",
       "      <td>6</td>\n",
       "    </tr>\n",
       "    <tr>\n",
       "      <th>4</th>\n",
       "      <td>20000</td>\n",
       "      <td>Individual</td>\n",
       "      <td>2nd owner</td>\n",
       "      <td>21000</td>\n",
       "      <td>91438.755319</td>\n",
       "      <td>Yamaha</td>\n",
       "      <td>10</td>\n",
       "    </tr>\n",
       "  </tbody>\n",
       "</table>\n",
       "</div>"
      ],
      "text/plain": [
       "   selling_price seller_type      owner  km_driven  ex_showroom_price  \\\n",
       "0         175000  Individual  1st owner        350      165413.050000   \n",
       "1          45000  Individual  1st owner       5650       69254.158824   \n",
       "2         150000  Individual  1st owner      12000      148114.000000   \n",
       "3          65000  Individual  1st owner      23000       89643.000000   \n",
       "4          20000  Individual  2nd owner      21000       91438.755319   \n",
       "\n",
       "           brand  no_of_yr  \n",
       "0  Royal Enfield         2  \n",
       "1          Honda         4  \n",
       "2  Royal Enfield         3  \n",
       "3         Yamaha         6  \n",
       "4         Yamaha        10  "
      ]
     },
     "execution_count": 120,
     "metadata": {},
     "output_type": "execute_result"
    }
   ],
   "source": [
    "data_3.head()"
   ]
  },
  {
   "cell_type": "code",
   "execution_count": 121,
   "id": "34bbbfaa",
   "metadata": {},
   "outputs": [],
   "source": [
    "# data_3 = pd.get_dummies(data_3, columns = ['owner', 'seller_type','brand'], drop_first = True) #handling categorial data"
   ]
  },
  {
   "cell_type": "code",
   "execution_count": 122,
   "id": "aa9c6ab6",
   "metadata": {},
   "outputs": [
    {
     "name": "stdout",
     "output_type": "stream",
     "text": [
      "[0 1 2 3]\n",
      "[5 2 8 1 0 4 6 7 3]\n",
      "[1 0]\n"
     ]
    }
   ],
   "source": [
    "label_encoder = preprocessing.LabelEncoder()\n",
    "data_3['owner']= label_encoder.fit_transform(data_3['owner'])\n",
    "print(data_3['owner'].unique())\n",
    "data_3['brand']= label_encoder.fit_transform(data_3['brand'])\n",
    "print(data_3['brand'].unique())\n",
    "data_3['seller_type']= label_encoder.fit_transform(data_3['seller_type'])\n",
    "print(data_3['seller_type'].unique())"
   ]
  },
  {
   "cell_type": "code",
   "execution_count": 123,
   "id": "6f3ac504",
   "metadata": {},
   "outputs": [
    {
     "data": {
      "text/html": [
       "<div>\n",
       "<style scoped>\n",
       "    .dataframe tbody tr th:only-of-type {\n",
       "        vertical-align: middle;\n",
       "    }\n",
       "\n",
       "    .dataframe tbody tr th {\n",
       "        vertical-align: top;\n",
       "    }\n",
       "\n",
       "    .dataframe thead th {\n",
       "        text-align: right;\n",
       "    }\n",
       "</style>\n",
       "<table border=\"1\" class=\"dataframe\">\n",
       "  <thead>\n",
       "    <tr style=\"text-align: right;\">\n",
       "      <th></th>\n",
       "      <th>selling_price</th>\n",
       "      <th>seller_type</th>\n",
       "      <th>owner</th>\n",
       "      <th>km_driven</th>\n",
       "      <th>ex_showroom_price</th>\n",
       "      <th>brand</th>\n",
       "      <th>no_of_yr</th>\n",
       "    </tr>\n",
       "  </thead>\n",
       "  <tbody>\n",
       "    <tr>\n",
       "      <th>0</th>\n",
       "      <td>175000</td>\n",
       "      <td>1</td>\n",
       "      <td>0</td>\n",
       "      <td>350</td>\n",
       "      <td>165413.050000</td>\n",
       "      <td>5</td>\n",
       "      <td>2</td>\n",
       "    </tr>\n",
       "    <tr>\n",
       "      <th>1</th>\n",
       "      <td>45000</td>\n",
       "      <td>1</td>\n",
       "      <td>0</td>\n",
       "      <td>5650</td>\n",
       "      <td>69254.158824</td>\n",
       "      <td>2</td>\n",
       "      <td>4</td>\n",
       "    </tr>\n",
       "    <tr>\n",
       "      <th>2</th>\n",
       "      <td>150000</td>\n",
       "      <td>1</td>\n",
       "      <td>0</td>\n",
       "      <td>12000</td>\n",
       "      <td>148114.000000</td>\n",
       "      <td>5</td>\n",
       "      <td>3</td>\n",
       "    </tr>\n",
       "    <tr>\n",
       "      <th>3</th>\n",
       "      <td>65000</td>\n",
       "      <td>1</td>\n",
       "      <td>0</td>\n",
       "      <td>23000</td>\n",
       "      <td>89643.000000</td>\n",
       "      <td>8</td>\n",
       "      <td>6</td>\n",
       "    </tr>\n",
       "    <tr>\n",
       "      <th>4</th>\n",
       "      <td>20000</td>\n",
       "      <td>1</td>\n",
       "      <td>1</td>\n",
       "      <td>21000</td>\n",
       "      <td>91438.755319</td>\n",
       "      <td>8</td>\n",
       "      <td>10</td>\n",
       "    </tr>\n",
       "  </tbody>\n",
       "</table>\n",
       "</div>"
      ],
      "text/plain": [
       "   selling_price  seller_type  owner  km_driven  ex_showroom_price  brand  \\\n",
       "0         175000            1      0        350      165413.050000      5   \n",
       "1          45000            1      0       5650       69254.158824      2   \n",
       "2         150000            1      0      12000      148114.000000      5   \n",
       "3          65000            1      0      23000       89643.000000      8   \n",
       "4          20000            1      1      21000       91438.755319      8   \n",
       "\n",
       "   no_of_yr  \n",
       "0         2  \n",
       "1         4  \n",
       "2         3  \n",
       "3         6  \n",
       "4        10  "
      ]
     },
     "execution_count": 123,
     "metadata": {},
     "output_type": "execute_result"
    }
   ],
   "source": [
    "data_3.head()"
   ]
  },
  {
   "cell_type": "markdown",
   "id": "b1df39c4",
   "metadata": {},
   "source": [
    "# Spliting the Train and test data sets"
   ]
  },
  {
   "cell_type": "code",
   "execution_count": 124,
   "id": "c60b91f5",
   "metadata": {},
   "outputs": [
    {
     "data": {
      "text/html": [
       "<div>\n",
       "<style scoped>\n",
       "    .dataframe tbody tr th:only-of-type {\n",
       "        vertical-align: middle;\n",
       "    }\n",
       "\n",
       "    .dataframe tbody tr th {\n",
       "        vertical-align: top;\n",
       "    }\n",
       "\n",
       "    .dataframe thead th {\n",
       "        text-align: right;\n",
       "    }\n",
       "</style>\n",
       "<table border=\"1\" class=\"dataframe\">\n",
       "  <thead>\n",
       "    <tr style=\"text-align: right;\">\n",
       "      <th></th>\n",
       "      <th>seller_type</th>\n",
       "      <th>owner</th>\n",
       "      <th>km_driven</th>\n",
       "      <th>ex_showroom_price</th>\n",
       "      <th>brand</th>\n",
       "      <th>no_of_yr</th>\n",
       "    </tr>\n",
       "  </thead>\n",
       "  <tbody>\n",
       "    <tr>\n",
       "      <th>0</th>\n",
       "      <td>1</td>\n",
       "      <td>0</td>\n",
       "      <td>350</td>\n",
       "      <td>165413.050000</td>\n",
       "      <td>5</td>\n",
       "      <td>2</td>\n",
       "    </tr>\n",
       "    <tr>\n",
       "      <th>1</th>\n",
       "      <td>1</td>\n",
       "      <td>0</td>\n",
       "      <td>5650</td>\n",
       "      <td>69254.158824</td>\n",
       "      <td>2</td>\n",
       "      <td>4</td>\n",
       "    </tr>\n",
       "    <tr>\n",
       "      <th>2</th>\n",
       "      <td>1</td>\n",
       "      <td>0</td>\n",
       "      <td>12000</td>\n",
       "      <td>148114.000000</td>\n",
       "      <td>5</td>\n",
       "      <td>3</td>\n",
       "    </tr>\n",
       "    <tr>\n",
       "      <th>3</th>\n",
       "      <td>1</td>\n",
       "      <td>0</td>\n",
       "      <td>23000</td>\n",
       "      <td>89643.000000</td>\n",
       "      <td>8</td>\n",
       "      <td>6</td>\n",
       "    </tr>\n",
       "    <tr>\n",
       "      <th>4</th>\n",
       "      <td>1</td>\n",
       "      <td>1</td>\n",
       "      <td>21000</td>\n",
       "      <td>91438.755319</td>\n",
       "      <td>8</td>\n",
       "      <td>10</td>\n",
       "    </tr>\n",
       "  </tbody>\n",
       "</table>\n",
       "</div>"
      ],
      "text/plain": [
       "   seller_type  owner  km_driven  ex_showroom_price  brand  no_of_yr\n",
       "0            1      0        350      165413.050000      5         2\n",
       "1            1      0       5650       69254.158824      2         4\n",
       "2            1      0      12000      148114.000000      5         3\n",
       "3            1      0      23000       89643.000000      8         6\n",
       "4            1      1      21000       91438.755319      8        10"
      ]
     },
     "execution_count": 124,
     "metadata": {},
     "output_type": "execute_result"
    }
   ],
   "source": [
    "X = data_3.drop('selling_price', axis=1)\n",
    "y = data_3['selling_price']\n",
    "X.head()"
   ]
  },
  {
   "cell_type": "code",
   "execution_count": 125,
   "id": "03e1344a",
   "metadata": {},
   "outputs": [
    {
     "name": "stdout",
     "output_type": "stream",
     "text": [
      "['Royal Enfield' 'Honda' 'Yamaha' 'Hero' 'Bajaj' 'Other' 'Suzuki' 'TVS'\n",
      " 'KTM']\n",
      "[5 2 8 1 0 4 6 7 3]\n",
      "int32\n"
     ]
    }
   ],
   "source": [
    "print(data['brand'].unique())\n",
    "print(data_3['brand'].unique())\n",
    "print(data_3['seller_type'].dtype)"
   ]
  },
  {
   "cell_type": "code",
   "execution_count": 126,
   "id": "860838cf",
   "metadata": {},
   "outputs": [],
   "source": [
    "X_train, X_test, y_train, y_test = train_test_split(X,y, test_size=0.2, random_state=42)"
   ]
  },
  {
   "cell_type": "markdown",
   "id": "65a9e695",
   "metadata": {},
   "source": [
    "# Training the model "
   ]
  },
  {
   "cell_type": "code",
   "execution_count": 127,
   "id": "86e4a781",
   "metadata": {},
   "outputs": [],
   "source": [
    "rf_random = RandomForestRegressor()"
   ]
  },
  {
   "cell_type": "code",
   "execution_count": 128,
   "id": "6eedfdd2",
   "metadata": {},
   "outputs": [
    {
     "data": {
      "text/plain": [
       "RandomForestRegressor()"
      ]
     },
     "execution_count": 128,
     "metadata": {},
     "output_type": "execute_result"
    }
   ],
   "source": [
    "rf_random.fit(X_train,y_train)"
   ]
  },
  {
   "cell_type": "code",
   "execution_count": 129,
   "id": "cef558d8",
   "metadata": {},
   "outputs": [],
   "source": [
    "prediction=rf_random.predict(X_test)"
   ]
  },
  {
   "cell_type": "markdown",
   "id": "29c912a4",
   "metadata": {},
   "source": [
    "# Model Evaluation"
   ]
  },
  {
   "cell_type": "code",
   "execution_count": 130,
   "id": "16551deb",
   "metadata": {},
   "outputs": [],
   "source": [
    "mae = mean_absolute_error(y_test, prediction)"
   ]
  },
  {
   "cell_type": "code",
   "execution_count": 131,
   "id": "15aea648",
   "metadata": {},
   "outputs": [
    {
     "data": {
      "text/plain": [
       "11195.922039532794"
      ]
     },
     "execution_count": 131,
     "metadata": {},
     "output_type": "execute_result"
    }
   ],
   "source": [
    "mae"
   ]
  },
  {
   "cell_type": "code",
   "execution_count": 132,
   "id": "b4fea980",
   "metadata": {},
   "outputs": [],
   "source": [
    "mse = mean_squared_error(y_test, prediction)"
   ]
  },
  {
   "cell_type": "code",
   "execution_count": 133,
   "id": "6504b830",
   "metadata": {},
   "outputs": [
    {
     "data": {
      "text/plain": [
       "277036613.9430408"
      ]
     },
     "execution_count": 133,
     "metadata": {},
     "output_type": "execute_result"
    }
   ],
   "source": [
    "mse"
   ]
  },
  {
   "cell_type": "code",
   "execution_count": 134,
   "id": "1410cad3",
   "metadata": {},
   "outputs": [
    {
     "data": {
      "text/plain": [
       "0.8917429366320577"
      ]
     },
     "execution_count": 134,
     "metadata": {},
     "output_type": "execute_result"
    }
   ],
   "source": [
    "r2_score(y_test, prediction)"
   ]
  },
  {
   "cell_type": "code",
   "execution_count": 135,
   "id": "5e09ec7c",
   "metadata": {},
   "outputs": [
    {
     "name": "stdout",
     "output_type": "stream",
     "text": [
      "Successfull\n"
     ]
    }
   ],
   "source": [
    "# Creating a pickel file for the classifier\n",
    "filename = 'Bike_Price_ML_Model_main.pkl'\n",
    "pickle.dump(rf_random,open(filename,'wb'))\n",
    "print(\"Successfull\")"
   ]
  },
  {
   "cell_type": "code",
   "execution_count": null,
   "id": "2bb5b327",
   "metadata": {},
   "outputs": [],
   "source": []
  }
 ],
 "metadata": {
  "kernelspec": {
   "display_name": "Python 3",
   "language": "python",
   "name": "python3"
  },
  "language_info": {
   "codemirror_mode": {
    "name": "ipython",
    "version": 3
   },
   "file_extension": ".py",
   "mimetype": "text/x-python",
   "name": "python",
   "nbconvert_exporter": "python",
   "pygments_lexer": "ipython3",
   "version": "3.8.8"
  }
 },
 "nbformat": 4,
 "nbformat_minor": 5
}
